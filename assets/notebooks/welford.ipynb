{
 "cells": [
  {
   "cell_type": "markdown",
   "metadata": {},
   "source": [
    "# Welford algorithm for updating variance online"
   ]
  },
  {
   "cell_type": "code",
   "execution_count": 1,
   "metadata": {},
   "outputs": [],
   "source": [
    "%matplotlib notebook\n",
    "import matplotlib.pyplot as plt\n",
    "import numpy as np\n",
    "from copy import deepcopy\n",
    "import seaborn as sns\n",
    "sns.set(font_scale=1.5)\n",
    "sns.set_style(\"whitegrid\", {'grid.linestyle':'--'})"
   ]
  },
  {
   "cell_type": "code",
   "execution_count": 2,
   "metadata": {},
   "outputs": [],
   "source": [
    "# set random seed\n",
    "np.random.seed(42)\n",
    "N = int(1e6)\n",
    "x = np.random.normal(size=N)"
   ]
  },
  {
   "cell_type": "code",
   "execution_count": 10,
   "metadata": {},
   "outputs": [],
   "source": [
    "def native_mean(x):\n",
    "    N = len(x)\n",
    "    sum_ = sum(x)\n",
    "    \n",
    "    return sum_ / N\n",
    "\n",
    "def native_var(x):\n",
    "    N = len(x)\n",
    "    mu = native_mean(x)\n",
    "    sum_ = sum([(e - mu)**2 for e in x])\n",
    "    \n",
    "    return sum_ / N\n",
    "\n",
    "def semi_native_var(x):\n",
    "    N = len(x)\n",
    "    mu = native_mean(x)\n",
    "    sum_ = sum([e **2 for e in x]) - N * mu**2\n",
    "    \n",
    "    return sum_ / N\n",
    "\n",
    "def online_mean(old_mean, new_x, N):\n",
    "    new_mean = old_mean + (new_x - old_mean) / (N + 1)\n",
    "    \n",
    "    return new_mean\n",
    "    \n",
    "def welford(old_var, old_mean, new_x, new_mean):\n",
    "    new_var = old_var + ((new_x - old_mean) * (new_x - new_mean) - old_var) / (N + 1)\n",
    "    \n",
    "    return new_var"
   ]
  },
  {
   "cell_type": "markdown",
   "metadata": {},
   "source": [
    "## Correctness"
   ]
  },
  {
   "cell_type": "code",
   "execution_count": 4,
   "metadata": {},
   "outputs": [],
   "source": [
    "new_x = 1.\n",
    "# test mean\n",
    "np.testing.assert_allclose(\n",
    "    native_mean(np.append(x, new_x)), \n",
    "    online_mean(old_mean=native_mean(x), new_x=new_x, N=N)\n",
    ")\n",
    "\n",
    "# test variance\n",
    "new_mean = online_mean(native_mean(x), new_x, N)\n",
    "np.testing.assert_allclose(\n",
    "    native_var(np.append(x, new_x)), \n",
    "    welford(old_var=native_var(x), old_mean=native_mean(x),\n",
    "            new_x=new_x, new_mean=new_mean)\n",
    ")"
   ]
  },
  {
   "cell_type": "code",
   "execution_count": 5,
   "metadata": {},
   "outputs": [],
   "source": [
    "# test with numpy package\n",
    "np.testing.assert_allclose(\n",
    "    np.mean(np.append(x, new_x)), online_mean(native_mean(x), new_x, N))\n",
    "np.testing.assert_allclose(\n",
    "    np.var(np.append(x, new_x)), \n",
    "    welford(old_var=native_var(x), old_mean=native_mean(x),\n",
    "            new_x=new_x, new_mean=new_mean)\n",
    ")"
   ]
  },
  {
   "cell_type": "markdown",
   "metadata": {},
   "source": [
    "## Speed"
   ]
  },
  {
   "cell_type": "code",
   "execution_count": 6,
   "metadata": {},
   "outputs": [
    {
     "name": "stdout",
     "output_type": "stream",
     "text": [
      "\n",
      " -0.0015987548555\n",
      "CPU times: user 95.7 ms, sys: 375 µs, total: 96 ms\n",
      "Wall time: 96.3 ms\n",
      "\n",
      " -0.0015987548555\n",
      "CPU times: user 2.32 ms, sys: 369 µs, total: 2.69 ms\n",
      "Wall time: 1.66 ms\n",
      "\n",
      " -0.0015987548555\n",
      "CPU times: user 82 µs, sys: 40 µs, total: 122 µs\n",
      "Wall time: 93 µs\n"
     ]
    }
   ],
   "source": [
    "new_xs = np.append(x, new_x)\n",
    "old_mean = native_mean(x)\n",
    "\n",
    "%time print('\\n', native_mean(new_xs))\n",
    "%time print('\\n', np.mean(new_xs))\n",
    "%time print('\\n', online_mean(old_mean=old_mean, new_x=new_x, N=N))\n",
    "pass"
   ]
  },
  {
   "cell_type": "code",
   "execution_count": 7,
   "metadata": {},
   "outputs": [
    {
     "name": "stdout",
     "output_type": "stream",
     "text": [
      "\n",
      " 1.00037611179\n",
      "CPU times: user 496 ms, sys: 18.1 ms, total: 514 ms\n",
      "Wall time: 515 ms\n",
      "\n",
      " 1.00037611179\n",
      "CPU times: user 5.74 ms, sys: 2.88 ms, total: 8.62 ms\n",
      "Wall time: 7.46 ms\n",
      "\n",
      " 1.00037611179\n",
      "CPU times: user 60 µs, sys: 14 µs, total: 74 µs\n",
      "Wall time: 67 µs\n"
     ]
    }
   ],
   "source": [
    "old_var = native_var(x)\n",
    "new_mean = native_mean(new_xs)\n",
    "\n",
    "%time print('\\n', native_var(new_xs))\n",
    "%time print('\\n', np.var(new_xs))\n",
    "%time print('\\n', welford(old_var=old_var, old_mean=old_mean, new_x=new_x, new_mean=new_mean))\n",
    "pass"
   ]
  },
  {
   "cell_type": "markdown",
   "metadata": {},
   "source": [
    "## Numerical stability"
   ]
  },
  {
   "cell_type": "code",
   "execution_count": 8,
   "metadata": {},
   "outputs": [],
   "source": [
    "offset = 1e9\n",
    "y = offset + x\n",
    "new_y = offset + new_x\n",
    "new_ys = np.append(y, new_y)\n",
    "\n",
    "np.testing.assert_allclose(\n",
    "    np.var(new_ys), \n",
    "    welford(old_var=native_var(y), old_mean=native_mean(y),\n",
    "            new_x=new_y, new_mean=native_mean(new_ys))\n",
    ")"
   ]
  },
  {
   "cell_type": "code",
   "execution_count": 11,
   "metadata": {},
   "outputs": [
    {
     "name": "stdout",
     "output_type": "stream",
     "text": [
      "\n",
      " 1.00037611632\n",
      "\n",
      " -116366.653809\n",
      "\n",
      " 1.00037611191\n",
      "\n",
      " 1.00037611618\n"
     ]
    }
   ],
   "source": [
    "print('\\n', native_var(new_ys))\n",
    "print('\\n', semi_native_var(new_ys))\n",
    "print('\\n', np.var(new_ys))\n",
    "print('\\n', welford(old_var=native_var(y), old_mean=native_mean(y), \n",
    "                    new_x=new_y, new_mean=native_mean(new_ys)))"
   ]
  },
  {
   "cell_type": "code",
   "execution_count": null,
   "metadata": {},
   "outputs": [],
   "source": []
  }
 ],
 "metadata": {
  "anaconda-cloud": {},
  "kernelspec": {
   "display_name": "Python [default]",
   "language": "python",
   "name": "python3"
  },
  "language_info": {
   "codemirror_mode": {
    "name": "ipython",
    "version": 3
   },
   "file_extension": ".py",
   "mimetype": "text/x-python",
   "name": "python",
   "nbconvert_exporter": "python",
   "pygments_lexer": "ipython3",
   "version": "3.5.2"
  }
 },
 "nbformat": 4,
 "nbformat_minor": 2
}
